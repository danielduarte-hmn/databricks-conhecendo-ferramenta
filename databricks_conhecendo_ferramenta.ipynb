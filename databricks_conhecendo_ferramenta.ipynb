{
  "cells": [
    {
      "cell_type": "markdown",
      "source": [
        "# Utilizando o Databricks"
      ],
      "metadata": {
        "application/vnd.databricks.v1+cell": {
          "showTitle": false,
          "cellMetadata": {},
          "nuid": "97105dbf-1fef-4180-8554-61d1103b3083",
          "inputWidgets": {},
          "title": ""
        },
        "id": "hU4o3b4enpCv"
      }
    },
    {
      "cell_type": "markdown",
      "source": [
        "## Criando tabela no notebook"
      ],
      "metadata": {
        "application/vnd.databricks.v1+cell": {
          "showTitle": false,
          "cellMetadata": {},
          "nuid": "0f425e78-8e38-40f9-9cbc-4293a1246512",
          "inputWidgets": {},
          "title": ""
        },
        "id": "6AzqXSvhnpCx"
      }
    },
    {
      "cell_type": "code",
      "source": [
        "dbutils.fs.rm('/user/hive/warehouse/data_csv', recurse=True)\n",
        "\n",
        "# Para este procedimento funcionar o arquivo data.csv deve estar carregado no DBFS no endereço especificado na variável `file_location`\n",
        "file_location = '/FileStore/tables/data.csv'\n",
        "file_type = 'csv'\n",
        "infer_schema = 'true'\n",
        "first_row_is_header = 'true'\n",
        "delimiter = ';'\n",
        "\n",
        "df = spark\\\n",
        "    .read\\\n",
        "    .format(file_type)\\\n",
        "    .option('inferSchema', infer_schema)\\\n",
        "    .option('header', first_row_is_header)\\\n",
        "    .option('sep', delimiter)\\\n",
        "    .load(file_location)\n",
        "\n",
        "table_name = 'data_csv'\n",
        "\n",
        "df.write.format('parquet').saveAsTable(table_name)"
      ],
      "metadata": {
        "application/vnd.databricks.v1+cell": {
          "showTitle": false,
          "cellMetadata": {},
          "nuid": "8e2c2aa0-df83-43f2-8a54-a371c3065455",
          "inputWidgets": {},
          "title": ""
        },
        "id": "mmvJdTB3npCz"
      },
      "outputs": [],
      "execution_count": null
    },
    {
      "cell_type": "markdown",
      "source": [
        "# Databricks Utilities"
      ],
      "metadata": {
        "application/vnd.databricks.v1+cell": {
          "showTitle": false,
          "cellMetadata": {},
          "nuid": "dddf1c4a-52b6-4ac1-9f5b-bd9d8c4800a5",
          "inputWidgets": {},
          "title": ""
        },
        "id": "FvCYX6s8npC0"
      }
    },
    {
      "cell_type": "markdown",
      "source": [
        "## Comandos Databricks Utilities - `dbutils`"
      ],
      "metadata": {
        "application/vnd.databricks.v1+cell": {
          "showTitle": false,
          "cellMetadata": {},
          "nuid": "84762e36-bd4a-48f8-a114-965f2acdb663",
          "inputWidgets": {},
          "title": ""
        },
        "id": "NI-bHAesnpC0"
      }
    },
    {
      "cell_type": "code",
      "source": [
        "dbutils.help()"
      ],
      "metadata": {
        "application/vnd.databricks.v1+cell": {
          "showTitle": false,
          "cellMetadata": {},
          "nuid": "a04ff4cd-5367-4522-b40b-171020429a66",
          "inputWidgets": {},
          "title": ""
        },
        "id": "sH84qTr1npC0"
      },
      "outputs": [],
      "execution_count": null
    },
    {
      "cell_type": "code",
      "source": [
        "dbutils.fs.help()"
      ],
      "metadata": {
        "application/vnd.databricks.v1+cell": {
          "showTitle": false,
          "cellMetadata": {},
          "nuid": "7f4eefb5-fd2f-4722-9000-c945c4a3555b",
          "inputWidgets": {},
          "title": ""
        },
        "id": "Rc_aqmMwnpC0"
      },
      "outputs": [],
      "execution_count": null
    },
    {
      "cell_type": "markdown",
      "source": [
        "## Manipulando arquivos"
      ],
      "metadata": {
        "application/vnd.databricks.v1+cell": {
          "showTitle": false,
          "cellMetadata": {},
          "nuid": "33d95024-1d74-46ae-a619-25301532151d",
          "inputWidgets": {},
          "title": ""
        },
        "id": "n3V0neyanpC0"
      }
    },
    {
      "cell_type": "markdown",
      "source": [
        "### Listar todos os arquivos dentro de uma pasta"
      ],
      "metadata": {
        "application/vnd.databricks.v1+cell": {
          "showTitle": false,
          "cellMetadata": {},
          "nuid": "a92d35b7-a4e4-45bd-b54f-f698496b580e",
          "inputWidgets": {},
          "title": ""
        },
        "id": "akRFuyH7npC0"
      }
    },
    {
      "cell_type": "code",
      "source": [
        "dbutils.fs.ls('/')"
      ],
      "metadata": {
        "application/vnd.databricks.v1+cell": {
          "showTitle": false,
          "cellMetadata": {},
          "nuid": "a8b54f9c-2fcf-426c-b3fa-6ea859b06f77",
          "inputWidgets": {},
          "title": ""
        },
        "id": "SYUrIL_CnpC1"
      },
      "outputs": [],
      "execution_count": null
    },
    {
      "cell_type": "code",
      "source": [
        "for item in dbutils.fs.ls('/'):\n",
        "    print(item.path)"
      ],
      "metadata": {
        "application/vnd.databricks.v1+cell": {
          "showTitle": false,
          "cellMetadata": {},
          "nuid": "49929ae6-67ce-4699-9606-670bef4b87a2",
          "inputWidgets": {},
          "title": ""
        },
        "id": "Wf_sK95QnpC1"
      },
      "outputs": [],
      "execution_count": null
    },
    {
      "cell_type": "markdown",
      "source": [
        "### Acessando os arquivos carregados no DBFS"
      ],
      "metadata": {
        "application/vnd.databricks.v1+cell": {
          "showTitle": false,
          "cellMetadata": {},
          "nuid": "88173729-efac-42ad-a688-6508b377d96e",
          "inputWidgets": {},
          "title": ""
        },
        "id": "ReoaTTmAnpC1"
      }
    },
    {
      "cell_type": "code",
      "source": [
        "dbutils.fs.ls('/FileStore/')"
      ],
      "metadata": {
        "application/vnd.databricks.v1+cell": {
          "showTitle": false,
          "cellMetadata": {},
          "nuid": "f7bc4321-b6ea-4703-a089-d0367a27a79f",
          "inputWidgets": {},
          "title": ""
        },
        "id": "oyoxfcNXnpC1"
      },
      "outputs": [],
      "execution_count": null
    },
    {
      "cell_type": "code",
      "source": [
        "dbutils.fs.ls('/FileStore/tables/')"
      ],
      "metadata": {
        "application/vnd.databricks.v1+cell": {
          "showTitle": false,
          "cellMetadata": {},
          "nuid": "8ff4c895-260e-4059-8a05-5a9dd613346c",
          "inputWidgets": {},
          "title": ""
        },
        "id": "fiCimmpynpC1"
      },
      "outputs": [],
      "execution_count": null
    },
    {
      "cell_type": "code",
      "source": [
        "display(dbutils.fs.ls('/FileStore/tables/'))"
      ],
      "metadata": {
        "application/vnd.databricks.v1+cell": {
          "showTitle": false,
          "cellMetadata": {},
          "nuid": "e86afef3-84a8-4c5e-9d9e-04be7b4e0b1c",
          "inputWidgets": {},
          "title": ""
        },
        "id": "KUN5wFSdnpC1"
      },
      "outputs": [],
      "execution_count": null
    },
    {
      "cell_type": "markdown",
      "source": [
        "### Listando as primeiras linhas de um arquivo"
      ],
      "metadata": {
        "application/vnd.databricks.v1+cell": {
          "showTitle": false,
          "cellMetadata": {},
          "nuid": "681da077-f322-4b1d-aa93-712b9cb4455d",
          "inputWidgets": {},
          "title": ""
        },
        "id": "wW7QR7BJnpC1"
      }
    },
    {
      "cell_type": "code",
      "source": [
        "dbutils.fs.head('/FileStore/tables/data.csv')"
      ],
      "metadata": {
        "application/vnd.databricks.v1+cell": {
          "showTitle": false,
          "cellMetadata": {},
          "nuid": "b048a89c-c992-4437-a3ef-b55e8412e1cd",
          "inputWidgets": {},
          "title": ""
        },
        "id": "XjjHGUybnpC1"
      },
      "outputs": [],
      "execution_count": null
    },
    {
      "cell_type": "markdown",
      "source": [
        "### Removendo arquivos"
      ],
      "metadata": {
        "application/vnd.databricks.v1+cell": {
          "showTitle": false,
          "cellMetadata": {},
          "nuid": "fb56ac53-2e28-4a66-a065-693667c83e59",
          "inputWidgets": {},
          "title": ""
        },
        "id": "6-ktGq5HnpC2"
      }
    },
    {
      "cell_type": "code",
      "source": [
        "dbutils.fs.rm('/FileStore/tables/data.csv')"
      ],
      "metadata": {
        "application/vnd.databricks.v1+cell": {
          "showTitle": false,
          "cellMetadata": {},
          "nuid": "8ed5ab5c-f3dc-48c6-90eb-82d287d4032a",
          "inputWidgets": {},
          "title": ""
        },
        "id": "KAqYXzhonpC2"
      },
      "outputs": [],
      "execution_count": null
    },
    {
      "cell_type": "code",
      "source": [
        "dbutils.fs.ls('/FileStore/tables')"
      ],
      "metadata": {
        "application/vnd.databricks.v1+cell": {
          "showTitle": false,
          "cellMetadata": {},
          "nuid": "b433ca63-234a-4fc8-b448-22175c95a9f9",
          "inputWidgets": {},
          "title": ""
        },
        "id": "Ab8Nw673npC2"
      },
      "outputs": [],
      "execution_count": null
    },
    {
      "cell_type": "markdown",
      "source": [
        "## Databricks Datasets\n",
        "##### [Wine Quality Data Set](http://archive.ics.uci.edu/ml/datasets/wine+quality)"
      ],
      "metadata": {
        "application/vnd.databricks.v1+cell": {
          "showTitle": false,
          "cellMetadata": {},
          "nuid": "bdb21bbc-cd75-4171-8359-772332a26bc0",
          "inputWidgets": {},
          "title": ""
        },
        "id": "TWzV4yGsnpC2"
      }
    },
    {
      "cell_type": "code",
      "source": [
        "for item in dbutils.fs.ls('/'): print(item.path)"
      ],
      "metadata": {
        "application/vnd.databricks.v1+cell": {
          "showTitle": false,
          "cellMetadata": {},
          "nuid": "7dfd7ed4-84c5-499d-aff7-516358d3e6f1",
          "inputWidgets": {},
          "title": ""
        },
        "id": "6ylY8VT2npC2"
      },
      "outputs": [],
      "execution_count": null
    },
    {
      "cell_type": "code",
      "source": [
        "display(dbutils.fs.ls('/databricks-datasets'))"
      ],
      "metadata": {
        "application/vnd.databricks.v1+cell": {
          "showTitle": false,
          "cellMetadata": {},
          "nuid": "24c72ec7-f990-414a-b464-2ded73943a3b",
          "inputWidgets": {},
          "title": ""
        },
        "id": "7mMRMcUYnpC2"
      },
      "outputs": [],
      "execution_count": null
    },
    {
      "cell_type": "code",
      "source": [
        "display(dbutils.fs.ls('/databricks-datasets/wine-quality'))"
      ],
      "metadata": {
        "application/vnd.databricks.v1+cell": {
          "showTitle": false,
          "cellMetadata": {},
          "nuid": "327762d6-62f9-4176-9a01-5125f87efaf3",
          "inputWidgets": {},
          "title": ""
        },
        "id": "h5McVAoVnpC2"
      },
      "outputs": [],
      "execution_count": null
    },
    {
      "cell_type": "code",
      "source": [
        "dbutils.fs.head(\"/databricks-datasets/wine-quality/README.md\")"
      ],
      "metadata": {
        "application/vnd.databricks.v1+cell": {
          "showTitle": false,
          "cellMetadata": {},
          "nuid": "cd3aaefb-b44c-4f6c-87be-eeb2e5829a63",
          "inputWidgets": {},
          "title": ""
        },
        "id": "LxFoa7x3npC2"
      },
      "outputs": [],
      "execution_count": null
    },
    {
      "cell_type": "code",
      "source": [
        "dbutils.fs.head(\"/databricks-datasets/wine-quality/winequality-red.csv\")"
      ],
      "metadata": {
        "application/vnd.databricks.v1+cell": {
          "showTitle": false,
          "cellMetadata": {},
          "nuid": "ca7be0c5-dd65-442c-9b73-90f64215b758",
          "inputWidgets": {},
          "title": ""
        },
        "id": "j-w8E3RRnpC2"
      },
      "outputs": [],
      "execution_count": null
    },
    {
      "cell_type": "code",
      "source": [
        "dbutils.fs.head(\"/databricks-datasets/wine-quality/winequality-white.csv\")"
      ],
      "metadata": {
        "application/vnd.databricks.v1+cell": {
          "showTitle": false,
          "cellMetadata": {},
          "nuid": "b7bc100b-248a-4db7-9ea8-f0649282380a",
          "inputWidgets": {},
          "title": ""
        },
        "id": "4ifPtEMinpC2"
      },
      "outputs": [],
      "execution_count": null
    },
    {
      "cell_type": "markdown",
      "source": [
        "## Diretórios e arquivos"
      ],
      "metadata": {
        "application/vnd.databricks.v1+cell": {
          "showTitle": false,
          "cellMetadata": {},
          "nuid": "fdf697ae-fe6f-4ffa-990f-38b0558d2f36",
          "inputWidgets": {},
          "title": ""
        },
        "id": "nIiQIG8AnpC2"
      }
    },
    {
      "cell_type": "code",
      "source": [
        "dbutils.fs.ls('/FileStore/tables')"
      ],
      "metadata": {
        "application/vnd.databricks.v1+cell": {
          "showTitle": false,
          "cellMetadata": {},
          "nuid": "c42857cd-c213-481f-a6e9-3a0d48d68a4d",
          "inputWidgets": {},
          "title": ""
        },
        "id": "WNPQSl3-npC3"
      },
      "outputs": [],
      "execution_count": null
    },
    {
      "cell_type": "code",
      "source": [
        "dbutils.fs.mkdirs('/FileStore/tables/aula-databricks/vinhos')"
      ],
      "metadata": {
        "application/vnd.databricks.v1+cell": {
          "showTitle": false,
          "cellMetadata": {},
          "nuid": "444ed0b4-8a8a-4b4a-b83b-9d924b0ce0b7",
          "inputWidgets": {},
          "title": ""
        },
        "id": "5Tg1b9K2npC3"
      },
      "outputs": [],
      "execution_count": null
    },
    {
      "cell_type": "code",
      "source": [
        "display(dbutils.fs.ls('/FileStore/tables/aula-databricks'))"
      ],
      "metadata": {
        "application/vnd.databricks.v1+cell": {
          "showTitle": false,
          "cellMetadata": {},
          "nuid": "a31af7d1-6574-4576-8b03-f760374a6914",
          "inputWidgets": {},
          "title": ""
        },
        "id": "3MzrvXp8npC3"
      },
      "outputs": [],
      "execution_count": null
    },
    {
      "cell_type": "code",
      "source": [
        "dbutils.fs.ls('/FileStore/tables/aula-databricks/vinhos')"
      ],
      "metadata": {
        "application/vnd.databricks.v1+cell": {
          "showTitle": false,
          "cellMetadata": {},
          "nuid": "92d5099d-dd34-405a-95ba-1ed8b914282e",
          "inputWidgets": {},
          "title": ""
        },
        "id": "LrjClN6OnpC3"
      },
      "outputs": [],
      "execution_count": null
    },
    {
      "cell_type": "code",
      "source": [
        "dbutils.fs.help('cp')"
      ],
      "metadata": {
        "application/vnd.databricks.v1+cell": {
          "showTitle": false,
          "cellMetadata": {},
          "nuid": "5674624c-fb41-4beb-847d-eafd9a0b2227",
          "inputWidgets": {},
          "title": ""
        },
        "id": "L7TWfrYwnpC3"
      },
      "outputs": [],
      "execution_count": null
    },
    {
      "cell_type": "code",
      "source": [
        "dbutils.fs.cp(\n",
        "    '/databricks-datasets/wine-quality',\n",
        "    '/FileStore/tables/aula-databricks',\n",
        "    recurse=True\n",
        ")"
      ],
      "metadata": {
        "application/vnd.databricks.v1+cell": {
          "showTitle": false,
          "cellMetadata": {},
          "nuid": "2a4d5ba6-6440-4d23-a1e4-7562398e238e",
          "inputWidgets": {},
          "title": ""
        },
        "id": "07UKyT3anpC3"
      },
      "outputs": [],
      "execution_count": null
    },
    {
      "cell_type": "code",
      "source": [
        "dbutils.fs.ls('/FileStore/tables/aula-databricks/vinhos')"
      ],
      "metadata": {
        "application/vnd.databricks.v1+cell": {
          "showTitle": false,
          "cellMetadata": {},
          "nuid": "f8e5781a-6956-48cd-8053-1c11e8504c87",
          "inputWidgets": {},
          "title": ""
        },
        "id": "E4zOULNRnpC3"
      },
      "outputs": [],
      "execution_count": null
    },
    {
      "cell_type": "code",
      "source": [
        "dbutils.fs.ls('/FileStore/tables/aula-databricks')"
      ],
      "metadata": {
        "application/vnd.databricks.v1+cell": {
          "showTitle": false,
          "cellMetadata": {},
          "nuid": "b4c0d924-82b3-4aab-87fb-b871aeadc848",
          "inputWidgets": {},
          "title": ""
        },
        "id": "6eEJ8u3_npC3"
      },
      "outputs": [],
      "execution_count": null
    },
    {
      "cell_type": "code",
      "source": [
        "dbutils.fs.help('mv')"
      ],
      "metadata": {
        "application/vnd.databricks.v1+cell": {
          "showTitle": false,
          "cellMetadata": {},
          "nuid": "18e4168c-cbe1-4301-896e-d82d00f8bf74",
          "inputWidgets": {},
          "title": ""
        },
        "id": "aRkfj8cynpC3"
      },
      "outputs": [],
      "execution_count": null
    },
    {
      "cell_type": "code",
      "source": [
        "# dbutils.fs.mv(\n",
        "#     '/FileStore/tables/aula-databricks/',\n",
        "#     '/FileStore/tables/aula-databricks/vinhos/',\n",
        "#     recurse=True\n",
        "# )"
      ],
      "metadata": {
        "application/vnd.databricks.v1+cell": {
          "showTitle": false,
          "cellMetadata": {},
          "nuid": "667fb0c2-8b7d-4289-88f9-b9636d7e7ef5",
          "inputWidgets": {},
          "title": ""
        },
        "id": "GnZjQAaHnpC3"
      },
      "outputs": [],
      "execution_count": null
    },
    {
      "cell_type": "code",
      "source": [
        "display(dbutils.fs.ls('/FileStore/tables/aula-databricks'))"
      ],
      "metadata": {
        "application/vnd.databricks.v1+cell": {
          "showTitle": false,
          "cellMetadata": {},
          "nuid": "2d59a45f-a855-4883-82a9-4ec09c33c4eb",
          "inputWidgets": {},
          "title": ""
        },
        "id": "bOE9na-InpC4"
      },
      "outputs": [],
      "execution_count": null
    },
    {
      "cell_type": "code",
      "source": [
        "for item in dbutils.fs.ls('/FileStore/tables/aula-databricks'):\n",
        "    if item.size!=0:\n",
        "        dbutils.fs.mv(\n",
        "          f'/FileStore/tables/aula-databricks/{item.name}',\n",
        "          '/FileStore/tables/aula-databricks/vinhos/'\n",
        "        )"
      ],
      "metadata": {
        "application/vnd.databricks.v1+cell": {
          "showTitle": false,
          "cellMetadata": {},
          "nuid": "1d90a6e1-86ee-4f7b-bc06-670bbf8a2774",
          "inputWidgets": {},
          "title": ""
        },
        "id": "hn4vMh_bnpDI"
      },
      "outputs": [],
      "execution_count": null
    },
    {
      "cell_type": "code",
      "source": [
        "display(dbutils.fs.ls('/FileStore/tables/aula-databricks'))"
      ],
      "metadata": {
        "application/vnd.databricks.v1+cell": {
          "showTitle": false,
          "cellMetadata": {},
          "nuid": "07148a99-72ad-4e92-b3d4-b8f6f9e002b0",
          "inputWidgets": {},
          "title": ""
        },
        "id": "KzAwn_jPnpDI"
      },
      "outputs": [],
      "execution_count": null
    },
    {
      "cell_type": "code",
      "source": [
        "display(dbutils.fs.ls('/FileStore/tables/aula-databricks/vinhos'))"
      ],
      "metadata": {
        "application/vnd.databricks.v1+cell": {
          "showTitle": false,
          "cellMetadata": {},
          "nuid": "767cd435-5d88-4be2-910a-341a8d51d9e1",
          "inputWidgets": {},
          "title": ""
        },
        "id": "8O0-7_9UnpDI"
      },
      "outputs": [],
      "execution_count": null
    },
    {
      "cell_type": "markdown",
      "source": [
        "# Usando SQL no Databricks"
      ],
      "metadata": {
        "application/vnd.databricks.v1+cell": {
          "showTitle": false,
          "cellMetadata": {},
          "nuid": "8dda6bc4-a054-410c-9e23-050385033d14",
          "inputWidgets": {},
          "title": ""
        },
        "id": "q2wgK5cInpDI"
      }
    },
    {
      "cell_type": "markdown",
      "source": [
        "## Criando uma tabela"
      ],
      "metadata": {
        "application/vnd.databricks.v1+cell": {
          "showTitle": false,
          "cellMetadata": {},
          "nuid": "62c48a1f-1469-45ae-a62b-fe3504b4d351",
          "inputWidgets": {},
          "title": ""
        },
        "id": "klx43A6enpDI"
      }
    },
    {
      "cell_type": "code",
      "source": [
        "%sql\n",
        "SHOW DATABASES"
      ],
      "metadata": {
        "application/vnd.databricks.v1+cell": {
          "showTitle": false,
          "cellMetadata": {
            "implicitDf": true
          },
          "nuid": "dedf8b03-dd0a-4f97-aebb-9adc17fb1f9e",
          "inputWidgets": {},
          "title": ""
        },
        "id": "tfc0i_FTnpDI"
      },
      "outputs": [],
      "execution_count": null
    },
    {
      "cell_type": "markdown",
      "source": [
        "### Criando um database"
      ],
      "metadata": {
        "application/vnd.databricks.v1+cell": {
          "showTitle": false,
          "cellMetadata": {},
          "nuid": "f8b2b57c-a8e6-4dbd-a252-b64ece63b299",
          "inputWidgets": {},
          "title": ""
        },
        "id": "OxS8chf6npDJ"
      }
    },
    {
      "cell_type": "code",
      "source": [
        "%sql\n",
        "CREATE DATABASE IF NOT EXISTS teste"
      ],
      "metadata": {
        "application/vnd.databricks.v1+cell": {
          "showTitle": false,
          "cellMetadata": {
            "implicitDf": true
          },
          "nuid": "00122eff-208c-44be-b517-cff17c22bd3d",
          "inputWidgets": {},
          "title": ""
        },
        "id": "V84aDW1DnpDJ"
      },
      "outputs": [],
      "execution_count": null
    },
    {
      "cell_type": "code",
      "source": [
        "%sql\n",
        "SHOW DATABASES"
      ],
      "metadata": {
        "application/vnd.databricks.v1+cell": {
          "showTitle": false,
          "cellMetadata": {
            "implicitDf": true
          },
          "nuid": "d7a143d9-7464-4577-a49e-490103c2bf93",
          "inputWidgets": {},
          "title": ""
        },
        "id": "uSsHfM4HnpDJ"
      },
      "outputs": [],
      "execution_count": null
    },
    {
      "cell_type": "markdown",
      "source": [
        "### Criando uma tabela"
      ],
      "metadata": {
        "application/vnd.databricks.v1+cell": {
          "showTitle": false,
          "cellMetadata": {},
          "nuid": "b9102595-6b66-4c0d-a026-ef3d57b53fe7",
          "inputWidgets": {},
          "title": ""
        },
        "id": "bJt1ww0JnpDJ"
      }
    },
    {
      "cell_type": "code",
      "source": [
        "%sql\n",
        "USE teste"
      ],
      "metadata": {
        "application/vnd.databricks.v1+cell": {
          "showTitle": false,
          "cellMetadata": {
            "implicitDf": true
          },
          "nuid": "8c06ddb9-90b6-42e3-9bbd-361ff2e4d22c",
          "inputWidgets": {},
          "title": ""
        },
        "id": "SkemoKFcnpDJ"
      },
      "outputs": [],
      "execution_count": null
    },
    {
      "cell_type": "code",
      "source": [
        "%sql\n",
        "CREATE TABLE usuarios(\n",
        "  idade int,\n",
        "  estado string,\n",
        "  salario float\n",
        ")\n",
        "  ROW FORMAT DELIMITED\n",
        "    FIELDS TERMINATED BY ','\n",
        "    LINES TERMINATED BY '\\n'\n",
        "  STORED AS textfile\n",
        "  LOCATION '/FileStore/tables/aula-databricks/usuarios/'"
      ],
      "metadata": {
        "application/vnd.databricks.v1+cell": {
          "showTitle": false,
          "cellMetadata": {
            "implicitDf": true
          },
          "nuid": "d2999b4f-6ed0-4cd3-bcc4-d3e4d9af557c",
          "inputWidgets": {},
          "title": ""
        },
        "id": "_VHp0Gq1npDJ"
      },
      "outputs": [],
      "execution_count": null
    },
    {
      "cell_type": "code",
      "source": [
        "%sql\n",
        "SHOW TABLES"
      ],
      "metadata": {
        "application/vnd.databricks.v1+cell": {
          "showTitle": false,
          "cellMetadata": {
            "implicitDf": true
          },
          "nuid": "1e087f47-f46e-4941-a2ec-0763b5027792",
          "inputWidgets": {},
          "title": ""
        },
        "id": "6z761a29npDJ"
      },
      "outputs": [],
      "execution_count": null
    },
    {
      "cell_type": "code",
      "source": [
        "%sql\n",
        "SELECT *\n",
        "  FROM usuarios"
      ],
      "metadata": {
        "application/vnd.databricks.v1+cell": {
          "showTitle": false,
          "cellMetadata": {
            "implicitDf": true
          },
          "nuid": "5d2fbb3b-d851-4505-9aa4-1691cd7a168e",
          "inputWidgets": {},
          "title": ""
        },
        "id": "ZoF4bUv1npDJ"
      },
      "outputs": [],
      "execution_count": null
    },
    {
      "cell_type": "markdown",
      "source": [
        "### Inserindo registros em uma tabela"
      ],
      "metadata": {
        "application/vnd.databricks.v1+cell": {
          "showTitle": false,
          "cellMetadata": {},
          "nuid": "925472b6-9461-48c4-b710-aad25a94e4b2",
          "inputWidgets": {},
          "title": ""
        },
        "id": "sLBzCNSHnpDJ"
      }
    },
    {
      "cell_type": "code",
      "source": [
        "%sql\n",
        "INSERT INTO usuarios VALUES (25, 'SP', 5000)"
      ],
      "metadata": {
        "application/vnd.databricks.v1+cell": {
          "showTitle": false,
          "cellMetadata": {
            "implicitDf": true
          },
          "nuid": "1ac57aaf-5349-4e5a-8f10-01447af4ec6a",
          "inputWidgets": {},
          "title": ""
        },
        "id": "gakq0qItnpDJ"
      },
      "outputs": [],
      "execution_count": null
    },
    {
      "cell_type": "code",
      "source": [
        "%sql\n",
        "SELECT *\n",
        "  FROM usuarios"
      ],
      "metadata": {
        "application/vnd.databricks.v1+cell": {
          "showTitle": false,
          "cellMetadata": {
            "implicitDf": true
          },
          "nuid": "e92b563f-74b2-493b-9856-fbe904f441d0",
          "inputWidgets": {},
          "title": ""
        },
        "id": "9_fUMKy_npDJ"
      },
      "outputs": [],
      "execution_count": null
    },
    {
      "cell_type": "markdown",
      "source": [
        "## Partições\n",
        "\n",
        "Existem duas maneiras de inserir dados na tabela de partição:\n",
        "\n",
        "**Estático:** precisamos especificar o valor da coluna de partição em cada instrução que será carregada.\n",
        "\n",
        "> `PARTITION(country=\"BR\")`\n",
        "\n",
        "**Dinâmico:** Não precisamos especificar o valor da coluna da partição.\n",
        "\n",
        "> `PARTITION(country)`"
      ],
      "metadata": {
        "application/vnd.databricks.v1+cell": {
          "showTitle": false,
          "cellMetadata": {},
          "nuid": "f8c81e1b-9c35-4836-8b83-822dce361acf",
          "inputWidgets": {},
          "title": ""
        },
        "id": "WeN9RVjgnpDJ"
      }
    },
    {
      "cell_type": "code",
      "source": [
        "%sql\n",
        "SET hive.exec.dynamic.partition = true;\n",
        "SET hive.exec.dynamic.partition.mode = nonstrict;"
      ],
      "metadata": {
        "application/vnd.databricks.v1+cell": {
          "showTitle": false,
          "cellMetadata": {
            "implicitDf": true
          },
          "nuid": "d61890e3-1957-4f9b-b938-f3f855ed9dd4",
          "inputWidgets": {},
          "title": ""
        },
        "id": "xNN5uBVInpDK"
      },
      "outputs": [],
      "execution_count": null
    },
    {
      "cell_type": "code",
      "source": [
        "%sql\n",
        "CREATE TABLE usuariosPart(\n",
        "  idade int,\n",
        "  estado string,\n",
        "  salario float\n",
        ")\n",
        "  ROW FORMAT DELIMITED\n",
        "    FIELDS TERMINATED BY ','\n",
        "    LINES TERMINATED BY '\\n'\n",
        "  STORED AS textfile\n",
        "  PARTITIONED BY (ano int)\n",
        "  LOCATION '/FileStore/tables/aula-databricks/usuariosPart/'"
      ],
      "metadata": {
        "application/vnd.databricks.v1+cell": {
          "showTitle": false,
          "cellMetadata": {
            "implicitDf": true
          },
          "nuid": "0f6ae3bf-56a7-4549-9e3b-a3c735a7351a",
          "inputWidgets": {},
          "title": ""
        },
        "id": "j-GyCVmznpDK"
      },
      "outputs": [],
      "execution_count": null
    },
    {
      "cell_type": "code",
      "source": [
        "%sql\n",
        "INSERT INTO usuariosPart VALUES (25, 'SP', 5000, 2021)"
      ],
      "metadata": {
        "application/vnd.databricks.v1+cell": {
          "showTitle": false,
          "cellMetadata": {
            "implicitDf": true
          },
          "nuid": "c8c71faa-9cf7-4407-a848-27a7867eb633",
          "inputWidgets": {},
          "title": ""
        },
        "id": "kopu2uugnpDK"
      },
      "outputs": [],
      "execution_count": null
    },
    {
      "cell_type": "code",
      "source": [
        "%sql\n",
        "SELECT *\n",
        "  FROM usuariosPart"
      ],
      "metadata": {
        "application/vnd.databricks.v1+cell": {
          "showTitle": false,
          "cellMetadata": {
            "implicitDf": true
          },
          "nuid": "b545f800-d677-4f05-adfe-97ecc583ecfc",
          "inputWidgets": {},
          "title": ""
        },
        "id": "60j4-dHunpDK"
      },
      "outputs": [],
      "execution_count": null
    },
    {
      "cell_type": "code",
      "source": [
        "%sql\n",
        "INSERT INTO usuariosPart\n",
        "  PARTITION (ano=2020)\n",
        "    VALUES (30, 'SP', 6000)"
      ],
      "metadata": {
        "application/vnd.databricks.v1+cell": {
          "showTitle": false,
          "cellMetadata": {
            "implicitDf": true
          },
          "nuid": "9d3531cf-a243-407e-830a-b590f087945b",
          "inputWidgets": {},
          "title": ""
        },
        "id": "Ke4yn0GpnpDK"
      },
      "outputs": [],
      "execution_count": null
    },
    {
      "cell_type": "code",
      "source": [
        "%sql\n",
        "SELECT *\n",
        "  FROM usuariosPart"
      ],
      "metadata": {
        "application/vnd.databricks.v1+cell": {
          "showTitle": false,
          "cellMetadata": {
            "implicitDf": true
          },
          "nuid": "d437c6cb-3b7d-4872-aa2e-1f36239149aa",
          "inputWidgets": {},
          "title": ""
        },
        "id": "abU4HV30npDK"
      },
      "outputs": [],
      "execution_count": null
    },
    {
      "cell_type": "code",
      "source": [
        "%sql\n",
        "SELECT *\n",
        "  FROM usuariosPart\n",
        "    WHERE ano=2020"
      ],
      "metadata": {
        "application/vnd.databricks.v1+cell": {
          "showTitle": false,
          "cellMetadata": {
            "implicitDf": true
          },
          "nuid": "a1eb3369-06e6-40f8-ab5b-77a5ee46e5f0",
          "inputWidgets": {},
          "title": ""
        },
        "id": "2qqaZ2o1npDK"
      },
      "outputs": [],
      "execution_count": null
    },
    {
      "cell_type": "markdown",
      "source": [
        "## Carregando dados"
      ],
      "metadata": {
        "application/vnd.databricks.v1+cell": {
          "showTitle": false,
          "cellMetadata": {},
          "nuid": "976ddeae-0ab5-4165-a0c3-71efedf8dc05",
          "inputWidgets": {},
          "title": ""
        },
        "id": "h9XHZgsNnpDK"
      }
    },
    {
      "cell_type": "code",
      "source": [
        "%sql\n",
        "CREATE DATABASE IF NOT EXISTS tabela_vinhos"
      ],
      "metadata": {
        "application/vnd.databricks.v1+cell": {
          "showTitle": false,
          "cellMetadata": {
            "implicitDf": true
          },
          "nuid": "2f0a675f-bc4c-48fd-84bb-10fe74244417",
          "inputWidgets": {},
          "title": ""
        },
        "id": "MtxxGuj2npDK"
      },
      "outputs": [],
      "execution_count": null
    },
    {
      "cell_type": "code",
      "source": [
        "%sql\n",
        "USE tabela_vinhos"
      ],
      "metadata": {
        "application/vnd.databricks.v1+cell": {
          "showTitle": false,
          "cellMetadata": {
            "implicitDf": true
          },
          "nuid": "f2c6c7f6-0d13-4102-93bf-3ec36a71e267",
          "inputWidgets": {},
          "title": ""
        },
        "id": "bOS6yqiTnpDK"
      },
      "outputs": [],
      "execution_count": null
    },
    {
      "cell_type": "code",
      "source": [
        "dbutils.fs.head('/FileStore/tables/aula-databricks/vinhos/winequality-red.csv')"
      ],
      "metadata": {
        "application/vnd.databricks.v1+cell": {
          "showTitle": false,
          "cellMetadata": {},
          "nuid": "72fe4c37-66b2-41c2-ba3c-711c6a0f9472",
          "inputWidgets": {},
          "title": ""
        },
        "id": "AntXgTUSnpDK"
      },
      "outputs": [],
      "execution_count": null
    },
    {
      "cell_type": "code",
      "source": [
        "%sql\n",
        "CREATE TABLE red_wine(\n",
        "    fixed_acidity float,\n",
        "    volatile_acidity float,\n",
        "    citric_acid float,\n",
        "    residual_sugar float,\n",
        "    chlorides float,\n",
        "    free_sulfur_dioxide int,\n",
        "    total_sulfur_dioxide float,\n",
        "    density float,\n",
        "    pH float,\n",
        "    sulphates float,\n",
        "    alcohol float,\n",
        "    quality float\n",
        "    )\n",
        "      USING CSV\n",
        "        OPTIONS (\n",
        "            path '/FileStore/tables/aula-databricks/vinhos/winequality-red.csv',\n",
        "            header 'true',\n",
        "            delimiter ';'\n",
        "        )"
      ],
      "metadata": {
        "application/vnd.databricks.v1+cell": {
          "showTitle": false,
          "cellMetadata": {
            "implicitDf": true
          },
          "nuid": "85bd96e1-b72c-4ce5-a2e8-b801ea17a3bc",
          "inputWidgets": {},
          "title": ""
        },
        "id": "NqJSksONnpDL"
      },
      "outputs": [],
      "execution_count": null
    },
    {
      "cell_type": "code",
      "source": [
        "%sql\n",
        "SHOW TABLES"
      ],
      "metadata": {
        "application/vnd.databricks.v1+cell": {
          "showTitle": false,
          "cellMetadata": {
            "implicitDf": true
          },
          "nuid": "b3302618-19a8-4208-8787-e8cf5e80ca2b",
          "inputWidgets": {},
          "title": ""
        },
        "id": "julrqcaWnpDL"
      },
      "outputs": [],
      "execution_count": null
    },
    {
      "cell_type": "code",
      "source": [
        "%sql\n",
        "SELECT *\n",
        "  FROM red_wine\n",
        "    LIMIT 10"
      ],
      "metadata": {
        "application/vnd.databricks.v1+cell": {
          "showTitle": false,
          "cellMetadata": {
            "implicitDf": true
          },
          "nuid": "104be41a-c897-43ae-8637-0b1ee082b079",
          "inputWidgets": {},
          "title": ""
        },
        "id": "BbseP4cWnpDL"
      },
      "outputs": [],
      "execution_count": null
    },
    {
      "cell_type": "markdown",
      "source": [
        "### Atividade - Faça como eu fiz\n",
        "\n",
        "Repita o mesmo procedimento feito para o arquivo de vinho tinto com o arquivo de vinho branco\n",
        "- Chame a tabela de white_wine"
      ],
      "metadata": {
        "application/vnd.databricks.v1+cell": {
          "showTitle": false,
          "cellMetadata": {},
          "nuid": "a0fe320e-0369-4cd2-b837-7959e078fe43",
          "inputWidgets": {},
          "title": ""
        },
        "id": "6LnglBkPnpDL"
      }
    },
    {
      "cell_type": "code",
      "source": [
        "dbutils.fs.head('/FileStore/tables/aula-databricks/vinhos/winequality-white.csv')"
      ],
      "metadata": {
        "application/vnd.databricks.v1+cell": {
          "showTitle": false,
          "cellMetadata": {},
          "nuid": "c7ea4cbd-1efc-40b1-837a-e8ee6f3932d6",
          "inputWidgets": {},
          "title": ""
        },
        "id": "mVlvQlItnpDL"
      },
      "outputs": [],
      "execution_count": null
    },
    {
      "cell_type": "code",
      "source": [
        "%sql\n",
        "CREATE TABLE white_wine(\n",
        "    fixed_acidity float,\n",
        "    volatile_acidity float,\n",
        "    citric_acid float,\n",
        "    residual_sugar float,\n",
        "    chlorides float,\n",
        "    free_sulfur_dioxide int,\n",
        "    total_sulfur_dioxide float,\n",
        "    density float,\n",
        "    pH float,\n",
        "    sulphates float,\n",
        "    alcohol float,\n",
        "    quality float\n",
        "    )\n",
        "    USING CSV\n",
        "        OPTIONS (\n",
        "            path '/FileStore/tables/aula-databricks/vinhos/winequality-white.csv',\n",
        "            header 'true',\n",
        "            delimiter ';'\n",
        "        )"
      ],
      "metadata": {
        "application/vnd.databricks.v1+cell": {
          "showTitle": false,
          "cellMetadata": {
            "implicitDf": true
          },
          "nuid": "8c4e84d3-7977-4e3e-9a56-44a4adb622b7",
          "inputWidgets": {},
          "title": ""
        },
        "id": "y03H2ZbwnpDL"
      },
      "outputs": [],
      "execution_count": null
    },
    {
      "cell_type": "code",
      "source": [
        "%sql\n",
        "SHOW TABLES"
      ],
      "metadata": {
        "application/vnd.databricks.v1+cell": {
          "showTitle": false,
          "cellMetadata": {
            "implicitDf": true
          },
          "nuid": "f2d7eff0-a6bf-42fe-821f-65e500d9fb4d",
          "inputWidgets": {},
          "title": ""
        },
        "id": "cMA4m1s4npDL"
      },
      "outputs": [],
      "execution_count": null
    },
    {
      "cell_type": "code",
      "source": [
        "%sql\n",
        "SELECT *\n",
        "  FROM white_wine\n",
        "    LIMIT 10"
      ],
      "metadata": {
        "application/vnd.databricks.v1+cell": {
          "showTitle": false,
          "cellMetadata": {
            "implicitDf": true
          },
          "nuid": "9da8b20f-8e2c-498d-8c87-6ba508805b6d",
          "inputWidgets": {},
          "title": ""
        },
        "id": "uH337pSznpDL"
      },
      "outputs": [],
      "execution_count": null
    },
    {
      "cell_type": "markdown",
      "source": [
        "## Explorando os dados"
      ],
      "metadata": {
        "application/vnd.databricks.v1+cell": {
          "showTitle": false,
          "cellMetadata": {},
          "nuid": "835ad2d4-0520-4d66-8d13-311a4dc30a2e",
          "inputWidgets": {},
          "title": ""
        },
        "id": "60PoajJmnpDL"
      }
    },
    {
      "cell_type": "code",
      "source": [
        "%sql\n",
        "DESCRIBE red_wine"
      ],
      "metadata": {
        "application/vnd.databricks.v1+cell": {
          "showTitle": false,
          "cellMetadata": {
            "implicitDf": true
          },
          "nuid": "b6a81199-39a4-491f-8535-c091ee3ac9c9",
          "inputWidgets": {},
          "title": ""
        },
        "id": "qsjWCo8anpDL"
      },
      "outputs": [],
      "execution_count": null
    },
    {
      "cell_type": "code",
      "source": [
        "%sql\n",
        "SELECT DISTINCT (quality)\n",
        "  FROM red_wine\n",
        "    ORDER BY quality DESC"
      ],
      "metadata": {
        "application/vnd.databricks.v1+cell": {
          "showTitle": false,
          "cellMetadata": {
            "implicitDf": true
          },
          "nuid": "47a88241-a6d9-43af-944e-b1375265897e",
          "inputWidgets": {},
          "title": ""
        },
        "id": "RryOklq3npDL"
      },
      "outputs": [],
      "execution_count": null
    },
    {
      "cell_type": "code",
      "source": [
        "%sql\n",
        "SELECT quality, COUNT (quality) AS freq\n",
        "  FROM red_wine\n",
        "    GROUP BY quality\n",
        "      ORDER BY quality DESC"
      ],
      "metadata": {
        "application/vnd.databricks.v1+cell": {
          "showTitle": false,
          "cellMetadata": {
            "implicitDf": true
          },
          "nuid": "96f17b5c-83fa-4830-a50c-6d0479698c4c",
          "inputWidgets": {},
          "title": ""
        },
        "id": "a7I11ptXnpDL"
      },
      "outputs": [],
      "execution_count": null
    },
    {
      "cell_type": "code",
      "source": [
        "%sql\n",
        "SELECT quality, MIN (pH) AS pH_mimino, MAX (pH) AS pH_maximo\n",
        "  FROM red_wine\n",
        "    GROUP BY quality\n",
        "      ORDER BY quality DESC"
      ],
      "metadata": {
        "application/vnd.databricks.v1+cell": {
          "showTitle": false,
          "cellMetadata": {
            "implicitDf": true
          },
          "nuid": "97323344-a53a-4084-b523-070515ebd41f",
          "inputWidgets": {},
          "title": ""
        },
        "id": "V_nCfTKxnpDM"
      },
      "outputs": [],
      "execution_count": null
    },
    {
      "cell_type": "markdown",
      "source": [
        "### Atividade - Faça como eu fiz\n",
        "\n",
        "Faz as mesmas análise com os dados de vinho branco e compare os resultados obtidos."
      ],
      "metadata": {
        "application/vnd.databricks.v1+cell": {
          "showTitle": false,
          "cellMetadata": {},
          "nuid": "31549975-b8e9-4fba-aad0-8f52fcc4ec24",
          "inputWidgets": {},
          "title": ""
        },
        "id": "xC8SpnBDnpDM"
      }
    },
    {
      "cell_type": "code",
      "source": [
        "%sql\n",
        "DESCRIBE white_wine"
      ],
      "metadata": {
        "application/vnd.databricks.v1+cell": {
          "showTitle": false,
          "cellMetadata": {
            "implicitDf": true
          },
          "nuid": "5fef54f0-45b0-4656-b91d-3ebdc1cb5007",
          "inputWidgets": {},
          "title": ""
        },
        "id": "NSJ4xzw9npDM"
      },
      "outputs": [],
      "execution_count": null
    },
    {
      "cell_type": "code",
      "source": [
        "%sql\n",
        "SELECT DISTINCT (quality)\n",
        "  FROM white_wine\n",
        "    ORDER BY quality DESC"
      ],
      "metadata": {
        "application/vnd.databricks.v1+cell": {
          "showTitle": false,
          "cellMetadata": {
            "implicitDf": true
          },
          "nuid": "3bf32107-ad90-4cdc-a54c-d4d7ed93b6f4",
          "inputWidgets": {},
          "title": ""
        },
        "id": "U4Y0jUGfnpDM"
      },
      "outputs": [],
      "execution_count": null
    },
    {
      "cell_type": "code",
      "source": [
        "%sql\n",
        "SELECT quality, COUNT (quality) AS freq\n",
        "  FROM white_wine\n",
        "    GROUP BY quality\n",
        "      ORDER BY quality DESC"
      ],
      "metadata": {
        "application/vnd.databricks.v1+cell": {
          "showTitle": false,
          "cellMetadata": {
            "implicitDf": true
          },
          "nuid": "40c09671-de7a-4688-890b-61f86925022d",
          "inputWidgets": {},
          "title": ""
        },
        "id": "Z5j5ag2znpDM"
      },
      "outputs": [],
      "execution_count": null
    },
    {
      "cell_type": "code",
      "source": [
        "%sql\n",
        "SELECT quality, MIN (pH) AS pH_mimino, MAX (pH) AS pH_maximo\n",
        "  FROM white_wine\n",
        "    GROUP BY quality\n",
        "      ORDER BY quality DESC"
      ],
      "metadata": {
        "application/vnd.databricks.v1+cell": {
          "showTitle": false,
          "cellMetadata": {
            "implicitDf": true
          },
          "nuid": "a9b8789a-dd74-4d0b-abe3-4f1ec101e08a",
          "inputWidgets": {},
          "title": ""
        },
        "id": "Uwje2vRWnpDM"
      },
      "outputs": [],
      "execution_count": null
    },
    {
      "cell_type": "markdown",
      "source": [
        "## Juntando os dados"
      ],
      "metadata": {
        "application/vnd.databricks.v1+cell": {
          "showTitle": false,
          "cellMetadata": {},
          "nuid": "757b8a82-c161-4060-b615-6110168ab0ed",
          "inputWidgets": {},
          "title": ""
        },
        "id": "gSIBngjlnpDM"
      }
    },
    {
      "cell_type": "code",
      "source": [
        "%sql\n",
        "CREATE OR REPLACE TABLE new_red_wine\n",
        "  AS SELECT *, 'red' AS wine_type\n",
        "    FROM red_wine"
      ],
      "metadata": {
        "application/vnd.databricks.v1+cell": {
          "showTitle": false,
          "cellMetadata": {
            "implicitDf": true
          },
          "nuid": "6ce7129f-1c1c-407e-8510-5190a137f12d",
          "inputWidgets": {},
          "title": ""
        },
        "id": "OpxMg-PnnpDM"
      },
      "outputs": [],
      "execution_count": null
    },
    {
      "cell_type": "code",
      "source": [
        "%sql\n",
        "SELECT *\n",
        "  FROM new_red_wine"
      ],
      "metadata": {
        "application/vnd.databricks.v1+cell": {
          "showTitle": false,
          "cellMetadata": {
            "implicitDf": true
          },
          "nuid": "e53fdfaa-a8f6-46a1-a7eb-47d87f8fb995",
          "inputWidgets": {},
          "title": ""
        },
        "id": "F_CbweIZnpDN"
      },
      "outputs": [],
      "execution_count": null
    },
    {
      "cell_type": "code",
      "source": [
        "%sql\n",
        "CREATE OR REPLACE TABLE new_white_wine\n",
        "  AS select *, 'white' AS wine_type\n",
        "    FROM white_wine"
      ],
      "metadata": {
        "application/vnd.databricks.v1+cell": {
          "showTitle": false,
          "cellMetadata": {
            "implicitDf": true
          },
          "nuid": "cd83ebba-a1f7-47ec-b744-2d7219ba59e6",
          "inputWidgets": {},
          "title": ""
        },
        "id": "ohoZQJHcnpDN"
      },
      "outputs": [],
      "execution_count": null
    },
    {
      "cell_type": "code",
      "source": [
        "%sql\n",
        "SELECT *\n",
        "  FROM new_white_wine"
      ],
      "metadata": {
        "application/vnd.databricks.v1+cell": {
          "showTitle": false,
          "cellMetadata": {
            "implicitDf": true
          },
          "nuid": "79f75ec1-9fe3-443f-8847-aa4b54b12273",
          "inputWidgets": {},
          "title": ""
        },
        "id": "IutLUQchnpDN"
      },
      "outputs": [],
      "execution_count": null
    },
    {
      "cell_type": "code",
      "source": [
        "%sql\n",
        "CREATE OR REPLACE TABLE combined_wines\n",
        "  AS SELECT *\n",
        "    FROM new_red_wine\n",
        "      UNION ALL SELECT *\n",
        "        FROM new_white_wine"
      ],
      "metadata": {
        "application/vnd.databricks.v1+cell": {
          "showTitle": false,
          "cellMetadata": {
            "implicitDf": true
          },
          "nuid": "9a9179eb-81d8-4d9e-80be-e943e7935e1c",
          "inputWidgets": {},
          "title": ""
        },
        "id": "Air2zVJhnpDN"
      },
      "outputs": [],
      "execution_count": null
    },
    {
      "cell_type": "code",
      "source": [
        "%sql\n",
        "SELECT wine_type, AVG (pH) AS pH_medio\n",
        "  FROM combined_wines\n",
        "    GROUP BY wine_type\n",
        "      ORDER BY wine_type"
      ],
      "metadata": {
        "application/vnd.databricks.v1+cell": {
          "showTitle": false,
          "cellMetadata": {
            "implicitDf": true
          },
          "nuid": "4653d821-49f5-42cb-9046-2d413dd1781e",
          "inputWidgets": {},
          "title": ""
        },
        "id": "Oylpu2j2npDN"
      },
      "outputs": [],
      "execution_count": null
    },
    {
      "cell_type": "markdown",
      "source": [
        "# Apache Spark"
      ],
      "metadata": {
        "application/vnd.databricks.v1+cell": {
          "showTitle": false,
          "cellMetadata": {},
          "nuid": "9bf3ad21-d5d1-4164-864e-ade4f67b3909",
          "inputWidgets": {},
          "title": ""
        },
        "id": "5Ob-r9K4npDN"
      }
    },
    {
      "cell_type": "code",
      "source": [
        "spark"
      ],
      "metadata": {
        "application/vnd.databricks.v1+cell": {
          "showTitle": false,
          "cellMetadata": {},
          "nuid": "3ab48b21-5b79-4ef3-aad1-6a221d06a592",
          "inputWidgets": {},
          "title": ""
        },
        "id": "SD2uIQsRnpDO"
      },
      "outputs": [],
      "execution_count": null
    },
    {
      "cell_type": "markdown",
      "source": [
        "## Comunicação Hive-Spark"
      ],
      "metadata": {
        "application/vnd.databricks.v1+cell": {
          "showTitle": false,
          "cellMetadata": {},
          "nuid": "a167d8d1-60dc-46f8-bbef-b1b3abde9ef7",
          "inputWidgets": {},
          "title": ""
        },
        "id": "TG7YEniknpDO"
      }
    },
    {
      "cell_type": "code",
      "source": [
        "%sql\n",
        "SHOW TABLES"
      ],
      "metadata": {
        "application/vnd.databricks.v1+cell": {
          "showTitle": false,
          "cellMetadata": {
            "implicitDf": true
          },
          "nuid": "fd9b98ec-bdad-4e66-ba97-bca062629c24",
          "inputWidgets": {},
          "title": ""
        },
        "id": "PqCoxuVwnpDO"
      },
      "outputs": [],
      "execution_count": null
    },
    {
      "cell_type": "code",
      "source": [
        "tabela = spark.table('tabela_vinhos.combined_wines')"
      ],
      "metadata": {
        "application/vnd.databricks.v1+cell": {
          "showTitle": false,
          "cellMetadata": {},
          "nuid": "f6278048-06a0-4348-8431-d19f65bd8346",
          "inputWidgets": {},
          "title": ""
        },
        "id": "UdBhD9z_npDO"
      },
      "outputs": [],
      "execution_count": null
    },
    {
      "cell_type": "code",
      "source": [
        "tabela"
      ],
      "metadata": {
        "application/vnd.databricks.v1+cell": {
          "showTitle": false,
          "cellMetadata": {},
          "nuid": "36365ad6-abd4-494e-a5f0-f4f95a988f75",
          "inputWidgets": {},
          "title": ""
        },
        "id": "A2CmNrz3npDO"
      },
      "outputs": [],
      "execution_count": null
    },
    {
      "cell_type": "code",
      "source": [
        "tabela.show()"
      ],
      "metadata": {
        "application/vnd.databricks.v1+cell": {
          "showTitle": false,
          "cellMetadata": {},
          "nuid": "46e222e0-7c72-4846-9419-524e27755ed9",
          "inputWidgets": {},
          "title": ""
        },
        "id": "a28xJvAFnpDO"
      },
      "outputs": [],
      "execution_count": null
    },
    {
      "cell_type": "code",
      "source": [
        "display(tabela)"
      ],
      "metadata": {
        "application/vnd.databricks.v1+cell": {
          "showTitle": false,
          "cellMetadata": {},
          "nuid": "145f0b8d-c98c-42e0-89a8-2087ace16330",
          "inputWidgets": {},
          "title": ""
        },
        "id": "YISn3UhInpDO"
      },
      "outputs": [],
      "execution_count": null
    },
    {
      "cell_type": "markdown",
      "source": [
        "### SQL com Spark\n",
        "\n",
        "```spark.sql('query').show()```\n",
        "\n",
        "ou\n",
        "\n",
        "```display(spark.sql('query'))```\n",
        "\n",
        "Se quisermos pular linhas na query temos que utilizar 3 aspas simples:\n",
        "```\n",
        "spark.sql( '''\n",
        "  query\n",
        "''' ).show()\n",
        "```"
      ],
      "metadata": {
        "application/vnd.databricks.v1+cell": {
          "showTitle": false,
          "cellMetadata": {},
          "nuid": "28951a40-ec4a-4f1e-bc07-17cde63656d4",
          "inputWidgets": {},
          "title": ""
        },
        "id": "2i8d93jDnpDO"
      }
    },
    {
      "cell_type": "code",
      "source": [
        "spark.sql('''\n",
        "    SELECT DISTINCT (quality)\n",
        "        FROM combined_wines\n",
        "            ORDER BY quality DESC\n",
        "''').show()"
      ],
      "metadata": {
        "application/vnd.databricks.v1+cell": {
          "showTitle": false,
          "cellMetadata": {},
          "nuid": "c92113fc-5457-4839-a00f-ea4d8dbb5ad8",
          "inputWidgets": {},
          "title": ""
        },
        "id": "USnY7COnnpDO"
      },
      "outputs": [],
      "execution_count": null
    },
    {
      "cell_type": "code",
      "source": [
        "spark.sql('SELECT AVG (pH) FROM combined_wines').show()"
      ],
      "metadata": {
        "application/vnd.databricks.v1+cell": {
          "showTitle": false,
          "cellMetadata": {},
          "nuid": "38c901b1-5195-4ae6-99aa-8bf539c76201",
          "inputWidgets": {},
          "title": ""
        },
        "id": "Zkhp8YBynpDO"
      },
      "outputs": [],
      "execution_count": null
    },
    {
      "cell_type": "markdown",
      "source": [
        "### Registrando uma tabela"
      ],
      "metadata": {
        "application/vnd.databricks.v1+cell": {
          "showTitle": false,
          "cellMetadata": {},
          "nuid": "bf91a1ce-7f1c-4caa-82dc-997dbb272b01",
          "inputWidgets": {},
          "title": ""
        },
        "id": "bHmL1uY7npDP"
      }
    },
    {
      "cell_type": "code",
      "source": [
        "resultado = spark.sql('''\n",
        "    SELECT *\n",
        "        FROM combined_wines\n",
        "            WHERE pH < 3\n",
        "''')"
      ],
      "metadata": {
        "application/vnd.databricks.v1+cell": {
          "showTitle": false,
          "cellMetadata": {},
          "nuid": "d933f8e0-0502-49da-9558-a5794b2adca3",
          "inputWidgets": {},
          "title": ""
        },
        "id": "dton3-LgnpDP"
      },
      "outputs": [],
      "execution_count": null
    },
    {
      "cell_type": "code",
      "source": [
        "type(resultado)"
      ],
      "metadata": {
        "application/vnd.databricks.v1+cell": {
          "showTitle": false,
          "cellMetadata": {},
          "nuid": "362e6b15-4a90-4019-b855-9f709b2a70d2",
          "inputWidgets": {},
          "title": ""
        },
        "id": "tD4z8dUpnpDP"
      },
      "outputs": [],
      "execution_count": null
    },
    {
      "cell_type": "code",
      "source": [
        "resultado.createOrReplaceTempView('nova_tabela')"
      ],
      "metadata": {
        "application/vnd.databricks.v1+cell": {
          "showTitle": false,
          "cellMetadata": {},
          "nuid": "ff75bd84-505e-41e0-9d62-042f314d7471",
          "inputWidgets": {},
          "title": ""
        },
        "id": "xoflnMYenpDP"
      },
      "outputs": [],
      "execution_count": null
    },
    {
      "cell_type": "code",
      "source": [
        "spark.sql('''\n",
        "    SELECT quality, COUNT (quality) AS Freq\n",
        "        FROM nova_tabela\n",
        "            GROUP BY quality\n",
        "''').show()"
      ],
      "metadata": {
        "application/vnd.databricks.v1+cell": {
          "showTitle": false,
          "cellMetadata": {},
          "nuid": "16d15e63-d253-43a0-89c7-9284d58906f9",
          "inputWidgets": {},
          "title": ""
        },
        "id": "ROBnFX8bnpDP"
      },
      "outputs": [],
      "execution_count": null
    },
    {
      "cell_type": "markdown",
      "source": [
        "## PySpark"
      ],
      "metadata": {
        "application/vnd.databricks.v1+cell": {
          "showTitle": false,
          "cellMetadata": {},
          "nuid": "52cc9db7-95cb-4a8a-9eb9-38cf5b6cd988",
          "inputWidgets": {},
          "title": ""
        },
        "id": "UrMRunGZnpDP"
      }
    },
    {
      "cell_type": "code",
      "source": [
        "import pyspark\n",
        "from pyspark.sql.functions import lit"
      ],
      "metadata": {
        "application/vnd.databricks.v1+cell": {
          "showTitle": false,
          "cellMetadata": {},
          "nuid": "7292effe-83dc-4c0f-807f-9cf347d57224",
          "inputWidgets": {},
          "title": ""
        },
        "id": "q0mv1WLAnpDP"
      },
      "outputs": [],
      "execution_count": null
    },
    {
      "cell_type": "code",
      "source": [
        "display(dbutils.fs.ls('/databricks-datasets/wine-quality/'))"
      ],
      "metadata": {
        "application/vnd.databricks.v1+cell": {
          "showTitle": false,
          "cellMetadata": {},
          "nuid": "42c6a1fc-1b66-4b57-b6f0-5b617700d600",
          "inputWidgets": {},
          "title": ""
        },
        "id": "k9f76IDnnpDP"
      },
      "outputs": [],
      "execution_count": null
    },
    {
      "cell_type": "code",
      "source": [
        "red_wine_df = spark.read.format('csv')\\\n",
        "    .option('inferSchema', 'true')\\\n",
        "    .option('sep', ';')\\\n",
        "    .option('header', 'true')\\\n",
        "    .load('/databricks-datasets/wine-quality/winequality-red.csv')\n",
        "\n",
        "display(red_wine_df)"
      ],
      "metadata": {
        "application/vnd.databricks.v1+cell": {
          "showTitle": false,
          "cellMetadata": {},
          "nuid": "4883b1d3-b2ae-4e50-b645-3c3a3c86775f",
          "inputWidgets": {},
          "title": ""
        },
        "id": "WZ4FjrtbnpDP"
      },
      "outputs": [],
      "execution_count": null
    },
    {
      "cell_type": "code",
      "source": [
        "type(red_wine_df)"
      ],
      "metadata": {
        "application/vnd.databricks.v1+cell": {
          "showTitle": false,
          "cellMetadata": {},
          "nuid": "4df0bca4-e760-4bf6-a906-75e6c97b18ad",
          "inputWidgets": {},
          "title": ""
        },
        "id": "TsfcmLkinpDP"
      },
      "outputs": [],
      "execution_count": null
    },
    {
      "cell_type": "code",
      "source": [
        "white_wine_df = (spark.read.format('csv')\n",
        "    .option('inferSchema', 'true')\n",
        "    .option('sep', ';')\n",
        "    .option('header', 'true')\n",
        "    .load('/databricks-datasets/wine-quality/winequality-white.csv')\n",
        ")\n",
        "\n",
        "display(white_wine_df)"
      ],
      "metadata": {
        "application/vnd.databricks.v1+cell": {
          "showTitle": false,
          "cellMetadata": {},
          "nuid": "12d13c36-c4cc-4894-97a5-f26a8972a10c",
          "inputWidgets": {},
          "title": ""
        },
        "id": "ZI6ajwZBnpDP"
      },
      "outputs": [],
      "execution_count": null
    },
    {
      "cell_type": "code",
      "source": [
        "red_wine_df = red_wine_df.withColumn('wine_type', lit('red'))\n",
        "red_wine_df.show()"
      ],
      "metadata": {
        "application/vnd.databricks.v1+cell": {
          "showTitle": false,
          "cellMetadata": {},
          "nuid": "a97fc9e6-2d82-4032-9d7c-8e287bb5e903",
          "inputWidgets": {},
          "title": ""
        },
        "id": "6CrXEgO1npDQ"
      },
      "outputs": [],
      "execution_count": null
    },
    {
      "cell_type": "code",
      "source": [
        "white_wine_df = white_wine_df.withColumn('wine_type', lit('white'))\n",
        "white_wine_df.show()"
      ],
      "metadata": {
        "application/vnd.databricks.v1+cell": {
          "showTitle": false,
          "cellMetadata": {},
          "nuid": "e0e98f30-9c51-4e13-b9e6-c0a74792e9c5",
          "inputWidgets": {},
          "title": ""
        },
        "id": "PvBS0omynpDQ"
      },
      "outputs": [],
      "execution_count": null
    },
    {
      "cell_type": "code",
      "source": [
        "combined_wines = red_wine_df.union(white_wine_df)\n",
        "display(combined_wines)"
      ],
      "metadata": {
        "application/vnd.databricks.v1+cell": {
          "showTitle": false,
          "cellMetadata": {},
          "nuid": "ddda32c7-6464-4bb7-aacb-3e42c004936c",
          "inputWidgets": {},
          "title": ""
        },
        "id": "JHLl_TtdnpDQ"
      },
      "outputs": [],
      "execution_count": null
    },
    {
      "cell_type": "code",
      "source": [
        "combined_wines = combined_wines.withColumnRenamed('quality', 'nota')\n",
        "display(combined_wines)"
      ],
      "metadata": {
        "application/vnd.databricks.v1+cell": {
          "showTitle": false,
          "cellMetadata": {},
          "nuid": "434f6f10-6ac2-471e-8ecb-89f37f82c316",
          "inputWidgets": {},
          "title": ""
        },
        "id": "4zF11K9WnpDQ"
      },
      "outputs": [],
      "execution_count": null
    },
    {
      "cell_type": "code",
      "source": [
        "(\n",
        "    combined_wines\n",
        "        .select(['nota', 'wine_type'])\n",
        "        .show()\n",
        ")"
      ],
      "metadata": {
        "application/vnd.databricks.v1+cell": {
          "showTitle": false,
          "cellMetadata": {},
          "nuid": "9fe7d90a-0f6e-4b62-81b7-1a532a216f85",
          "inputWidgets": {},
          "title": ""
        },
        "id": "FSdQDhjSnpDQ"
      },
      "outputs": [],
      "execution_count": null
    },
    {
      "cell_type": "code",
      "source": [
        "(\n",
        "    combined_wines\n",
        "        .groupBy(['nota', 'wine_type'])\n",
        "        .count()\n",
        "        .show()\n",
        ")"
      ],
      "metadata": {
        "application/vnd.databricks.v1+cell": {
          "showTitle": false,
          "cellMetadata": {},
          "nuid": "3b7f74e2-a056-4635-8cf1-578eb7698c77",
          "inputWidgets": {},
          "title": ""
        },
        "id": "Bni8Z1vsnpDQ"
      },
      "outputs": [],
      "execution_count": null
    },
    {
      "cell_type": "code",
      "source": [
        "combined_wines.printSchema()"
      ],
      "metadata": {
        "application/vnd.databricks.v1+cell": {
          "showTitle": false,
          "cellMetadata": {},
          "nuid": "29eea61c-58e4-4557-978c-2bed9c1dd308",
          "inputWidgets": {},
          "title": ""
        },
        "id": "hQYFWx6onpDQ"
      },
      "outputs": [],
      "execution_count": null
    },
    {
      "cell_type": "code",
      "source": [
        "(\n",
        "    combined_wines\n",
        "        .write\n",
        "        .option('header', True)\n",
        "        .mode('overwrite')\n",
        "        .csv('/FileStore/tables/aula-databricks/vinhos/pyspark')\n",
        ")"
      ],
      "metadata": {
        "application/vnd.databricks.v1+cell": {
          "showTitle": false,
          "cellMetadata": {},
          "nuid": "26f92f1d-63ed-40bf-84cc-550c3679709c",
          "inputWidgets": {},
          "title": ""
        },
        "id": "Tf_kUQGDnpDQ"
      },
      "outputs": [],
      "execution_count": null
    },
    {
      "cell_type": "code",
      "source": [],
      "metadata": {
        "application/vnd.databricks.v1+cell": {
          "showTitle": false,
          "cellMetadata": {},
          "nuid": "e8aa4225-10cb-447f-89a2-d122b1a412c5",
          "inputWidgets": {},
          "title": ""
        },
        "id": "hwM8Br6EnpDQ"
      },
      "outputs": [],
      "execution_count": null
    }
  ],
  "metadata": {
    "language_info": {
      "name": "python"
    },
    "application/vnd.databricks.v1+notebook": {
      "notebookName": "projeto-aula",
      "dashboards": [],
      "notebookMetadata": {
        "pythonIndentUnit": 4,
        "mostRecentlyExecutedCommandWithImplicitDF": {
          "commandId": 1400766199052749,
          "dataframes": [
            "_sqldf"
          ]
        }
      },
      "language": "python",
      "widgets": {},
      "notebookOrigID": 1400766199052651
    },
    "colab": {
      "provenance": []
    }
  },
  "nbformat": 4,
  "nbformat_minor": 0
}